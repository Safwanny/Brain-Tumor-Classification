{
 "cells": [
  {
   "cell_type": "markdown",
   "id": "e4671be8-8292-4ec6-8607-2555ba0d8949",
   "metadata": {},
   "source": [
    "Brain Tumor Classification data exploration and preprocessing"
   ]
  },
  {
   "cell_type": "code",
   "execution_count": 1,
   "id": "676b422a-8df3-4027-afd5-e87c34b2df64",
   "metadata": {},
   "outputs": [],
   "source": [
    "import os\n",
    "import matplotlib.pyplot as plt\n",
    "from PIL import Image\n",
    "import numpy as np\n",
    "import seaborn as sns"
   ]
  },
  {
   "cell_type": "code",
   "execution_count": 6,
   "id": "ceb93b6d-b2e6-4e80-8d6f-239bb988c6bd",
   "metadata": {},
   "outputs": [],
   "source": [
    "data_mri_dir = \"/Users/safwanshaikh/Downloads/AML/Brain-Tumor-Classification/Braintumor_Dataset/MRI_imgs\"\n",
    "data_ct_dir = \"/Users/safwanshaikh/Downloads/AML/Brain-Tumor-Classification/Braintumor_Dataset/CT_scan_imgs\"\n",
    "\n",
    "categories_mri = ['Healthy', 'Tumor']\n",
    "categories_ct = ['Healthy', 'Tumor']"
   ]
  },
  {
   "cell_type": "code",
   "execution_count": 7,
   "id": "55fcb5c1-1d56-4b70-a3dd-24bec64c32cd",
   "metadata": {},
   "outputs": [
    {
     "name": "stdout",
     "output_type": "stream",
     "text": [
      "Healthy: 2000 images\n",
      "Tumor: 3000 images\n",
      "Healthy: 2000 images\n",
      "Tumor: 3000 images\n"
     ]
    }
   ],
   "source": [
    "# Count images in each class\n",
    "for category in categories_mri:\n",
    "    folder_path = os.path.join(data_mri_dir, category)\n",
    "    num_images = len(os.listdir(folder_path))\n",
    "    print(f\"{category}: {num_images} images\")\n",
    "\n",
    "for category in categories_ct:\n",
    "    folder_path = os.path.join(data_mri_dir, category)\n",
    "    num_images = len(os.listdir(folder_path))\n",
    "    print(f\"{category}: {num_images} images\")"
   ]
  },
  {
   "cell_type": "code",
   "execution_count": null,
   "id": "3c3c62a6-113b-4559-9561-a3eb14f10e02",
   "metadata": {},
   "outputs": [],
   "source": []
  }
 ],
 "metadata": {
  "kernelspec": {
   "display_name": "Python[conda env: MachineLearning]",
   "language": "python",
   "name": "machinelearning"
  },
  "language_info": {
   "codemirror_mode": {
    "name": "ipython",
    "version": 3
   },
   "file_extension": ".py",
   "mimetype": "text/x-python",
   "name": "python",
   "nbconvert_exporter": "python",
   "pygments_lexer": "ipython3",
   "version": "3.8.20"
  }
 },
 "nbformat": 4,
 "nbformat_minor": 5
}
